{
 "cells": [
  {
   "cell_type": "code",
   "execution_count": 17,
   "id": "31465e0c",
   "metadata": {},
   "outputs": [],
   "source": [
    "#pip install Flask SQLAlchemy Flask-RESTful\n"
   ]
  },
  {
   "cell_type": "code",
   "execution_count": 18,
   "id": "3d02abcf",
   "metadata": {},
   "outputs": [],
   "source": [
    "#pip install flask_sqlalchemy"
   ]
  },
  {
   "cell_type": "code",
   "execution_count": 19,
   "id": "b54bf0ae",
   "metadata": {},
   "outputs": [],
   "source": [
    "from flask import Flask, request\n",
    "from flask_restful import Resource, Api\n",
    "from flask_sqlalchemy import SQLAlchemy\n",
    "\n",
    " "
   ]
  },
  {
   "cell_type": "code",
   "execution_count": 20,
   "id": "a04f555f",
   "metadata": {},
   "outputs": [],
   "source": [
    "from flask import Flask, request\n",
    "from flask_sqlalchemy import SQLAlchemy\n",
    "from flask_restful import Resource, Api\n",
    "\n",
    "app = Flask(__name__)\n",
    "app.config['SQLALCHEMY_DATABASE_URI'] = 'sqlite:///students.db'\n",
    "db = SQLAlchemy(app)\n",
    "api = Api(app)\n",
    "\n",
    " "
   ]
  },
  {
   "cell_type": "code",
   "execution_count": 21,
   "id": "26062891",
   "metadata": {},
   "outputs": [],
   "source": [
    "class Student(db.Model):\n",
    "    id = db.Column(db.Integer, primary_key=True)\n",
    "    first_name = db.Column(db.String(80), nullable=False)\n",
    "    last_name = db.Column(db.String(80), nullable=False)\n",
    "    dob = db.Column(db.Date, nullable=False)\n",
    "    amount_due = db.Column(db.Float, default=0.0)\n",
    "\n",
    "    def __init__(self, first_name, last_name, dob, amount_due):\n",
    "        self.first_name = first_name\n",
    "        self.last_name = last_name\n",
    "        self.dob = dob\n",
    "        self.amount_due = amount_due"
   ]
  },
  {
   "cell_type": "code",
   "execution_count": 22,
   "id": "8cc1d7ff",
   "metadata": {},
   "outputs": [],
   "source": [
    "class StudentResource(Resource):\n",
    "    def get(self, student_id):\n",
    "        student = Student.query.get(student_id)\n",
    "        if student:\n",
    "            return {\n",
    "                'student_id': student.id,\n",
    "                'first_name': student.first_name,\n",
    "                'last_name': student.last_name,\n",
    "                'dob': student.dob.isoformat(),\n",
    "                'amount_due': student.amount_due\n",
    "            }\n",
    "        return {'message': 'Student not found'}, 404"
   ]
  },
  {
   "cell_type": "code",
   "execution_count": 23,
   "id": "4359fe1c",
   "metadata": {},
   "outputs": [],
   "source": [
    "  def post(self):\n",
    "        data = request.get_json()\n",
    "        new_student = Student(\n",
    "            first_name=data['first_name'],\n",
    "            last_name=data['last_name'],\n",
    "            dob=data['dob'],\n",
    "            amount_due=data['amount_due']\n",
    "        )\n",
    "        db.session.add(new_student)\n",
    "        db.session.commit()\n",
    "        return {'message': 'Student added successfully'}, 20"
   ]
  },
  {
   "cell_type": "code",
   "execution_count": 24,
   "id": "ab6c9c81",
   "metadata": {},
   "outputs": [],
   "source": [
    "def put(self, student_id):\n",
    "        student = Student.query.get(student_id)\n",
    "        if not student:\n",
    "            return {'message': 'Student not found'}, 404\n",
    "\n",
    "        data = request.get_json()\n",
    "        student.first_name = data['first_name']\n",
    "        student.last_name = data['last_name']\n",
    "        student.dob = data['dob']\n",
    "        student.amount_due = data['amount_due']\n",
    "        db.session.commit()\n",
    "        return {'message': 'Student updated successfully'}"
   ]
  },
  {
   "cell_type": "code",
   "execution_count": 25,
   "id": "edf36284",
   "metadata": {},
   "outputs": [],
   "source": [
    "def delete(self, student_id):\n",
    "        student = Student.query.get(student_id)\n",
    "        if not student:\n",
    "            return {'message': 'Student not found'}, 404\n",
    "        db.session.delete(student)\n",
    "        db.session.commit()\n",
    "        return {'message': 'Student deleted successfully'}, 200\n",
    "\n",
    "api.add_resource(StudentResource, '/students', '/students/<int:student_id>', endpoint='student_resource')\n"
   ]
  },
  {
   "cell_type": "code",
   "execution_count": null,
   "id": "6d63a099",
   "metadata": {},
   "outputs": [
    {
     "name": "stdout",
     "output_type": "stream",
     "text": [
      " * Serving Flask app '__main__'\n",
      " * Debug mode: off\n"
     ]
    },
    {
     "name": "stderr",
     "output_type": "stream",
     "text": [
      "WARNING: This is a development server. Do not use it in a production deployment. Use a production WSGI server instead.\n",
      " * Running on http://127.0.0.1:5000\n",
      "Press CTRL+C to quit\n",
      "127.0.0.1 - - [28/Jul/2023 17:52:51] \"GET / HTTP/1.1\" 404 -\n",
      "127.0.0.1 - - [28/Jul/2023 17:52:51] \"GET /favicon.ico HTTP/1.1\" 404 -\n",
      "127.0.0.1 - - [28/Jul/2023 17:57:48] \"GET / HTTP/1.1\" 404 -\n"
     ]
    }
   ],
   "source": [
    " if __name__ == '__main__':\n",
    "    with app.app_context():\n",
    "        db.create_all()\n",
    "    app.run()"
   ]
  },
  {
   "cell_type": "code",
   "execution_count": null,
   "id": "2419e35d",
   "metadata": {},
   "outputs": [],
   "source": []
  }
 ],
 "metadata": {
  "kernelspec": {
   "display_name": "Python 3 (ipykernel)",
   "language": "python",
   "name": "python3"
  },
  "language_info": {
   "codemirror_mode": {
    "name": "ipython",
    "version": 3
   },
   "file_extension": ".py",
   "mimetype": "text/x-python",
   "name": "python",
   "nbconvert_exporter": "python",
   "pygments_lexer": "ipython3",
   "version": "3.9.12"
  }
 },
 "nbformat": 4,
 "nbformat_minor": 5
}
